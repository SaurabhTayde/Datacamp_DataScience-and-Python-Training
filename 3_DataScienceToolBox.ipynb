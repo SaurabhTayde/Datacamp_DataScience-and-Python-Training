{
 "cells": [
  {
   "cell_type": "code",
   "execution_count": 2,
   "metadata": {},
   "outputs": [
    {
     "data": {
      "text/plain": [
       "'5'"
      ]
     },
     "execution_count": 2,
     "metadata": {},
     "output_type": "execute_result"
    }
   ],
   "source": [
    "#Data Science ToolBox 1:\n",
    "#User Defined Functions:\n",
    "\n",
    "#Built in Functions in Python:\n",
    "\n",
    "str(5) #Number to string"
   ]
  },
  {
   "cell_type": "code",
   "execution_count": 8,
   "metadata": {},
   "outputs": [
    {
     "name": "stdout",
     "output_type": "stream",
     "text": [
      "16\n"
     ]
    }
   ],
   "source": [
    "#Defining a function without paramter:\n",
    "\n",
    "def square():     # This is function header\n",
    "    value = 4 ** 2   # Function body\n",
    "    print(value)\n",
    "    \n",
    "square()"
   ]
  },
  {
   "cell_type": "code",
   "execution_count": 16,
   "metadata": {},
   "outputs": [
    {
     "name": "stdout",
     "output_type": "stream",
     "text": [
      "16\n"
     ]
    }
   ],
   "source": [
    "#Defining a function with paramter:\n",
    "\n",
    "def square(number):\n",
    "    value = number ** 2\n",
    "    print(value)\n",
    "    \n",
    "square(4)"
   ]
  },
  {
   "cell_type": "code",
   "execution_count": 20,
   "metadata": {},
   "outputs": [
    {
     "name": "stdout",
     "output_type": "stream",
     "text": [
      "16\n",
      "None\n"
     ]
    }
   ],
   "source": [
    "#Now in above case suppose we store the 'square(4)' in another variable:\n",
    "\n",
    "a = square(4)\n",
    "print(a)\n",
    "\n",
    "#So in output, we can see that we are getting 'None' as output after printing, so we can use following method to store:"
   ]
  },
  {
   "cell_type": "code",
   "execution_count": 25,
   "metadata": {},
   "outputs": [
    {
     "name": "stdout",
     "output_type": "stream",
     "text": [
      "25\n"
     ]
    }
   ],
   "source": [
    "# Return a value from a function using return:\n",
    "\n",
    "def square(number):\n",
    "    value = number ** 2\n",
    "    return value\n",
    "\n",
    "x = square(5)\n",
    "print(x)\n",
    "\n",
    "#So in above case we can store a value in variable , also there's no need to write print statement in function"
   ]
  },
  {
   "cell_type": "code",
   "execution_count": 26,
   "metadata": {},
   "outputs": [
    {
     "name": "stdout",
     "output_type": "stream",
     "text": [
      "49\n"
     ]
    }
   ],
   "source": [
    "# Docstrings:\n",
    "\n",
    "#● Docstrings describe what your function does\n",
    "#● Serve as documentation for your function\n",
    "#● Placed in the immediate line a!er the function header\n",
    "#● In between triple double quotes \"\"\"\n",
    "\n",
    "\n",
    "def square(number):\n",
    "    \"\"\"Return the square of a value.\"\"\"\n",
    "    value = number ** 2\n",
    "    return value\n",
    "\n",
    "x = square(7)\n",
    "print(x)\n"
   ]
  },
  {
   "cell_type": "code",
   "execution_count": 28,
   "metadata": {},
   "outputs": [
    {
     "name": "stdout",
     "output_type": "stream",
     "text": [
      "8\n"
     ]
    }
   ],
   "source": [
    "# Multiple function parameters:\n",
    "\n",
    "def raise_to_power(x,y):\n",
    "    value = x**y\n",
    "    return value\n",
    "\n",
    "ans = raise_to_power(2,3)\n",
    "\n",
    "print(ans)"
   ]
  },
  {
   "cell_type": "code",
   "execution_count": 33,
   "metadata": {},
   "outputs": [
    {
     "name": "stdout",
     "output_type": "stream",
     "text": [
      "(2, 4, 6)\n",
      "<class 'tuple'>\n"
     ]
    }
   ],
   "source": [
    "#If we want to return multiple values, we use tuple:\n",
    "\n",
    "#Make functions return multiple values: Tuples! \n",
    "#● Tuples: \n",
    "#    ● Like a list - can contain multiple values \n",
    "#    ● Immutable - can’t modify values! \n",
    "#    ● Constructed using parentheses ()\n",
    "\n",
    "#Example of tupple:\n",
    "\n",
    "even_nums = (2,4,6)\n",
    "print(even_nums)\n",
    "print(type(even_nums))\n"
   ]
  },
  {
   "cell_type": "code",
   "execution_count": 34,
   "metadata": {},
   "outputs": [
    {
     "name": "stdout",
     "output_type": "stream",
     "text": [
      "2\n",
      "4\n",
      "6\n"
     ]
    }
   ],
   "source": [
    "#Tupple Unpacking:\n",
    "\n",
    "even_nums = (2,4,6)\n",
    "\n",
    "a,b,c = even_nums\n",
    "\n",
    "print(a)\n",
    "print(b)\n",
    "print(c)"
   ]
  },
  {
   "cell_type": "code",
   "execution_count": 38,
   "metadata": {},
   "outputs": [
    {
     "name": "stdout",
     "output_type": "stream",
     "text": [
      "2\n",
      "4\n"
     ]
    }
   ],
   "source": [
    "#Accesing tupple elements:\n",
    "\n",
    "even_nums = (2, 4, 6)\n",
    "\n",
    "first_element = even_nums[0]\n",
    "second_element = even_nums[1]\n",
    "\n",
    "print(first_element)\n",
    "print(second_element)\n"
   ]
  },
  {
   "cell_type": "code",
   "execution_count": 40,
   "metadata": {},
   "outputs": [
    {
     "data": {
      "text/plain": [
       "(5, -1)"
      ]
     },
     "execution_count": 40,
     "metadata": {},
     "output_type": "execute_result"
    }
   ],
   "source": [
    "# Returning multiple values (use of tuple) :\n",
    "\n",
    "def add_subtract(a,b):\n",
    "    add = a+b\n",
    "    subtract = a-b\n",
    "    math_tuple = add,subtract\n",
    "    return(math_tuple)\n",
    "\n",
    "add_subtract(2,3)\n"
   ]
  },
  {
   "cell_type": "code",
   "execution_count": 17,
   "metadata": {},
   "outputs": [
    {
     "name": "stdout",
     "output_type": "stream",
     "text": [
      "9\n"
     ]
    },
    {
     "ename": "NameError",
     "evalue": "name 'new_val' is not defined",
     "output_type": "error",
     "traceback": [
      "\u001b[1;31m---------------------------------------------------------------------------\u001b[0m",
      "\u001b[1;31mNameError\u001b[0m                                 Traceback (most recent call last)",
      "\u001b[1;32m<ipython-input-17-480e9c32eac3>\u001b[0m in \u001b[0;36m<module>\u001b[1;34m\u001b[0m\n\u001b[0;32m     12\u001b[0m \u001b[0mprint\u001b[0m\u001b[1;33m(\u001b[0m\u001b[0msquare\u001b[0m\u001b[1;33m(\u001b[0m\u001b[1;36m3\u001b[0m\u001b[1;33m)\u001b[0m\u001b[1;33m)\u001b[0m\u001b[1;33m\u001b[0m\u001b[1;33m\u001b[0m\u001b[0m\n\u001b[0;32m     13\u001b[0m \u001b[1;33m\u001b[0m\u001b[0m\n\u001b[1;32m---> 14\u001b[1;33m \u001b[0mprint\u001b[0m\u001b[1;33m(\u001b[0m\u001b[0mnew_val\u001b[0m\u001b[1;33m)\u001b[0m\u001b[1;33m\u001b[0m\u001b[1;33m\u001b[0m\u001b[0m\n\u001b[0m\u001b[0;32m     15\u001b[0m \u001b[1;33m\u001b[0m\u001b[0m\n\u001b[0;32m     16\u001b[0m \u001b[1;31m# So we can see that we are getting error while trying to print 'new_val'\u001b[0m\u001b[1;33m\u001b[0m\u001b[1;33m\u001b[0m\u001b[1;33m\u001b[0m\u001b[0m\n",
      "\u001b[1;31mNameError\u001b[0m: name 'new_val' is not defined"
     ]
    }
   ],
   "source": [
    "#Scope and user defined functions:\n",
    "\n",
    "#Global Vs Local:\n",
    "\n",
    "#Global Vs Local: Scope 1 (Local variable):\n",
    "\n",
    "def square(value):\n",
    "     \"\"\"Returns the square of a number.\"\"\"\n",
    "     new_val = value ** 2\n",
    "     return new_val\n",
    "\n",
    "print(square(3))\n",
    "\n",
    "print(new_val)\n",
    "\n",
    "# So we can see that we are getting error while trying to print 'new_val' \n",
    "# This means new_val was just defined in the local scope of function but not globally. SO we are getting error while calling it"
   ]
  },
  {
   "cell_type": "code",
   "execution_count": 21,
   "metadata": {},
   "outputs": [
    {
     "name": "stdout",
     "output_type": "stream",
     "text": [
      "9\n",
      "**********\n",
      "100\n"
     ]
    }
   ],
   "source": [
    "#Global Vs Local: Scope 2\n",
    "\n",
    "new_val = 100\n",
    "\n",
    "def square(value):\n",
    "     \"\"\"Returns the square of a number.\"\"\"\n",
    "     new_val = value ** 2\n",
    "     return new_val\n",
    "\n",
    "print(square(3))\n",
    "print(10*'*')\n",
    "print(new_val)\n",
    "\n",
    "#As in below result, we can see that, function 'sqaure' has considered local value of new_val.\n",
    "#But if we call new_val we will get previously declared value\n",
    "#So function looks for local value first and if its not found then it goes for global value\n",
    "\n"
   ]
  },
  {
   "cell_type": "code",
   "execution_count": 24,
   "metadata": {},
   "outputs": [
    {
     "name": "stdout",
     "output_type": "stream",
     "text": [
      "100\n",
      "400\n"
     ]
    }
   ],
   "source": [
    "#Global Vs Local: Scope 3\n",
    "\n",
    "val = 10\n",
    "\n",
    "def square(value):\n",
    "     \"\"\"Returns the square of a number.\"\"\"\n",
    "     new_val = value ** 2\n",
    "     return new_val\n",
    "\n",
    "print(square(10))\n",
    "\n",
    "#Now consider new global value of val\n",
    "\n",
    "val = 20\n",
    "\n",
    "print(square(20))\n",
    "\n",
    "#So new changed gloal value is considered\n",
    "    "
   ]
  },
  {
   "cell_type": "code",
   "execution_count": 2,
   "metadata": {},
   "outputs": [
    {
     "name": "stdout",
     "output_type": "stream",
     "text": [
      "100\n"
     ]
    }
   ],
   "source": [
    "#Global Vs Local: Scope 4 : Global value \n",
    "\n",
    "new_val = 10\n",
    "\n",
    "def square(value):\n",
    "     \"\"\"Returns the square of a number.\"\"\"\n",
    "     global new_val\n",
    "     new_val = new_val ** 2\n",
    "     return new_val\n",
    "\n",
    "print(square(3))\n",
    "\n",
    "#So in output we can see that even after passing value as 3, we are getting output as 100 (square of 10) and not 9\n",
    "\n"
   ]
  },
  {
   "cell_type": "code",
   "execution_count": 30,
   "metadata": {},
   "outputs": [
    {
     "name": "stdout",
     "output_type": "stream",
     "text": [
      "teen titans\n",
      "justice league\n"
     ]
    }
   ],
   "source": [
    "# Another example how global value can be changed:\n",
    "\n",
    "# Create a string: team\n",
    "team = \"teen titans\"\n",
    "\n",
    "# Define change_team()\n",
    "def change_team():\n",
    "    \"\"\"Change the value of the global variable team.\"\"\"\n",
    "\n",
    "    # Use team in global scope\n",
    "    global team\n",
    "\n",
    "    # Change the value of team in global: team\n",
    "    team = \"justice league\"\n",
    "    \n",
    "# Print team\n",
    "print(team)\n",
    "\n",
    "# Call change_team()\n",
    "change_team()\n",
    "\n",
    "# Print team\n",
    "print(team)\n"
   ]
  },
  {
   "cell_type": "code",
   "execution_count": 33,
   "metadata": {},
   "outputs": [
    {
     "data": {
      "text/plain": [
       "(6, 5, 6)"
      ]
     },
     "execution_count": 33,
     "metadata": {},
     "output_type": "execute_result"
    }
   ],
   "source": [
    "# Nested Functions:\n",
    "\n",
    "#Why do we need nested functions?\n",
    "\n",
    "#Consider following scenario:\n",
    "\n",
    "def mod2plus5(x1,x2,x3):\n",
    "    \n",
    "    new_x1 = x1 % 2 + 5\n",
    "    new_x2 = x2 % 2 + 5 \n",
    "    new_x3 = x3 % 2 + 5\n",
    "    return(new_x1, new_x2, new_x3)\n",
    "\n",
    "mod2plus5(1,2,3)\n"
   ]
  },
  {
   "cell_type": "code",
   "execution_count": 37,
   "metadata": {},
   "outputs": [
    {
     "data": {
      "text/plain": [
       "(6, 5, 6)"
      ]
     },
     "execution_count": 37,
     "metadata": {},
     "output_type": "execute_result"
    }
   ],
   "source": [
    "#But above function is not feasible, so we use nested functions:\n",
    "    \n",
    "def mod2plus5(x1,x2,x3):\n",
    "    \n",
    "    def inner(n):\n",
    "        \n",
    "        return n % 2 + 5\n",
    "        \n",
    "    return(inner(x1), inner(x2), inner(x3))\n",
    "\n",
    "mod2plus5(1,2,3)\n"
   ]
  },
  {
   "cell_type": "code",
   "execution_count": null,
   "metadata": {},
   "outputs": [],
   "source": [
    "# Above function is feasible"
   ]
  },
  {
   "cell_type": "code",
   "execution_count": 7,
   "metadata": {},
   "outputs": [
    {
     "name": "stdout",
     "output_type": "stream",
     "text": [
      "25 64\n"
     ]
    }
   ],
   "source": [
    "# Functions with multiple arguments pass:\n",
    "\n",
    "def raise_val(n):\n",
    "    \"\"\"Return the inner function.\"\"\"\n",
    "    def inner(x):\n",
    "        \"\"\"Raise x to the power of n.\"\"\"\n",
    "        raised = x ** n\n",
    "        return raised\n",
    "    return inner\n",
    "\n",
    "square = raise_val(2)\n",
    "cube = raise_val(3)\n",
    "\n",
    "print(square(5), cube(4))\n"
   ]
  },
  {
   "cell_type": "code",
   "execution_count": 16,
   "metadata": {},
   "outputs": [],
   "source": [
    "# Non local variable:\n",
    "# Suppose we have to change the value of the variable under nested function (enclosing scope only),\n",
    "# then we use assign the variable as non local.\n",
    "# Consider following example:\n",
    "\n",
    "def outer():\n",
    "    n = 10\n",
    "    def inner():\n",
    "        nonlocal n\n",
    "        n = 20\n",
    "        print(n)\n",
    "    inner()\n",
    "    print(n)\n",
    "\n",
    "\n",
    "#Assigning names  will only create or change local names.\n",
    "#Unless they are declared in global or nonlocal statements using keywords global or nonlocal respectively\n"
   ]
  },
  {
   "cell_type": "code",
   "execution_count": 18,
   "metadata": {},
   "outputs": [
    {
     "name": "stdout",
     "output_type": "stream",
     "text": [
      "20\n",
      "20\n"
     ]
    }
   ],
   "source": [
    "outer()"
   ]
  },
  {
   "cell_type": "code",
   "execution_count": 22,
   "metadata": {},
   "outputs": [],
   "source": [
    "#So as we can see the value has changed since we are using nonlocal variable.\n",
    "#Following is the result, if we dont assign the variable as non local:\n",
    "\n",
    "def outer():\n",
    "    n = 10\n",
    "    def inner():\n",
    "        n = 20\n",
    "        print(n)\n",
    "    inner()\n",
    "    print(n)\n"
   ]
  },
  {
   "cell_type": "code",
   "execution_count": 24,
   "metadata": {},
   "outputs": [
    {
     "name": "stdout",
     "output_type": "stream",
     "text": [
      "20\n",
      "10\n"
     ]
    }
   ],
   "source": [
    "outer()"
   ]
  },
  {
   "cell_type": "code",
   "execution_count": 29,
   "metadata": {},
   "outputs": [],
   "source": [
    "#Default Argument:\n",
    "\n",
    "def power(x, n = 1):\n",
    "    \n",
    "    ans = x**n\n",
    "    return ans\n"
   ]
  },
  {
   "cell_type": "code",
   "execution_count": 33,
   "metadata": {},
   "outputs": [
    {
     "name": "stdout",
     "output_type": "stream",
     "text": [
      "8\n",
      "4\n"
     ]
    }
   ],
   "source": [
    "# Now as shown above, function is created.\n",
    "# Note that, If we pass two arguments to the function, it will consider 2 arguments and give the result\n",
    "# But if we give only one argument to the function, it will give consider n=1 by default and give the result.\n",
    "\n",
    "#Example 1:\n",
    "\n",
    "print(power(2,3))\n",
    "\n",
    "#Example 2:\n",
    "print(power(4))\n"
   ]
  },
  {
   "cell_type": "code",
   "execution_count": 41,
   "metadata": {},
   "outputs": [
    {
     "name": "stdout",
     "output_type": "stream",
     "text": [
      "12\n"
     ]
    }
   ],
   "source": [
    "#Flexible Arguments: *args(1)\n",
    "\n",
    "#In following function we can pass as many values in function as we want:\n",
    "\n",
    "def add_all(*args):\n",
    "    sum_all = 0\n",
    "    for num in args:\n",
    "        sum_all = sum_all + num\n",
    "    \n",
    "    return sum_all"
   ]
  },
  {
   "cell_type": "code",
   "execution_count": 45,
   "metadata": {},
   "outputs": [
    {
     "name": "stdout",
     "output_type": "stream",
     "text": [
      "12\n",
      "9\n",
      "50\n",
      "23\n"
     ]
    }
   ],
   "source": [
    "#Lets solve following example using add_all:\n",
    "\n",
    "print(add_all(3,4,2,3))\n",
    "\n",
    "print(add_all(3,4,2))\n",
    "\n",
    "print(add_all(3,44,3))\n",
    "\n",
    "print(add_all(11,2,10))\n",
    "#So from output we can say that function is adding all the value given in the input"
   ]
  },
  {
   "cell_type": "code",
   "execution_count": 47,
   "metadata": {},
   "outputs": [],
   "source": [
    "# Flexible arguments: **kwargs\n",
    "\n",
    "def print_all(**kwargs):\n",
    " \"\"\"Print out key-value pairs in **kwargs.\"\"\"\n",
    " # Print out the key-value pairs\n",
    " for key, value in kwargs.items():\n",
    "     print(key + \": \" + value)\n"
   ]
  },
  {
   "cell_type": "code",
   "execution_count": 51,
   "metadata": {},
   "outputs": [
    {
     "name": "stdout",
     "output_type": "stream",
     "text": [
      "FirstName: Saurabh\n",
      "MiddleName: Ganesh\n",
      "LastName: Tayde\n"
     ]
    }
   ],
   "source": [
    "print_all(FirstName = 'Saurabh', MiddleName = 'Ganesh',LastName = 'Tayde')"
   ]
  },
  {
   "cell_type": "code",
   "execution_count": 52,
   "metadata": {},
   "outputs": [],
   "source": [
    "# Note: Need to check number of stars while creating the function.\n",
    "# 1 star represents any values function can take.\n",
    "# 2 stars represents above output"
   ]
  },
  {
   "cell_type": "code",
   "execution_count": 54,
   "metadata": {},
   "outputs": [
    {
     "name": "stdout",
     "output_type": "stream",
     "text": [
      "HEYHEYHEYHEYHEY!!!\n",
      "HEY!!!\n"
     ]
    }
   ],
   "source": [
    "# Functions with multiple default arguments:\n",
    "\n",
    "# Define shout_echo\n",
    "def shout_echo(word1, echo = 1, intense = False):\n",
    "    \"\"\"Concatenate echo copies of word1 and three\n",
    "    exclamation marks at the end of the string.\"\"\"\n",
    "\n",
    "    # Concatenate echo copies of word1 using *: echo_word\n",
    "    echo_word = word1 * echo\n",
    "\n",
    "    # Make echo_word uppercase if intense is True\n",
    "    if intense is True:\n",
    "        # Make uppercase and concatenate '!!!': echo_word_new\n",
    "        echo_word_new = echo_word.upper() + '!!!'\n",
    "    else:\n",
    "        # Concatenate '!!!' to echo_word: echo_word_new\n",
    "        echo_word_new = echo_word + '!!!'\n",
    "\n",
    "    # Return echo_word_new\n",
    "    return echo_word_new\n",
    "\n",
    "# Call shout_echo() with \"Hey\", echo=5 and intense=True: with_big_echo\n",
    "with_big_echo = shout_echo('Hey', 5, True)\n",
    "\n",
    "# Call shout_echo() with \"Hey\" and intense=True: big_no_echo\n",
    "big_no_echo = shout_echo('Hey', 1, True)\n",
    "\n",
    "# Print values\n",
    "print(with_big_echo)\n",
    "print(big_no_echo)\n",
    "\n"
   ]
  },
  {
   "cell_type": "code",
   "execution_count": 30,
   "metadata": {},
   "outputs": [
    {
     "name": "stdout",
     "output_type": "stream",
     "text": [
      "8\n"
     ]
    }
   ],
   "source": [
    "#Lambda Functions:\n",
    "\n",
    "#Lambda functions helps to write functions in a quick way. For ex:\n",
    "\n",
    "raise_to_power = lambda x, y: x**y\n",
    "\n",
    "print(raise_to_power(2,3))\n"
   ]
  },
  {
   "cell_type": "code",
   "execution_count": 32,
   "metadata": {},
   "outputs": [
    {
     "name": "stdout",
     "output_type": "stream",
     "text": [
      "heyheyheyheyhey\n"
     ]
    }
   ],
   "source": [
    "#Lambda function ex.2:\n",
    "#To print echo of the given word\n",
    "\n",
    "#Define echo_word as a lambda function: echo_word\n",
    "echo_word = (lambda word1,echo: word1*echo)\n",
    "\n",
    "#Call echo_word: result\n",
    "result = echo_word('hey',5)\n",
    "\n",
    "#Print result\n",
    "print(result)\n"
   ]
  },
  {
   "cell_type": "code",
   "execution_count": 36,
   "metadata": {},
   "outputs": [
    {
     "name": "stdout",
     "output_type": "stream",
     "text": [
      "<map object at 0x000001A7BFD95588>\n",
      "[4, 16, 36, 64, 100]\n"
     ]
    }
   ],
   "source": [
    "#Consider function map() with lambda function:\n",
    "\n",
    "#map(func, seq): map function takes a function & a sequence(For ex: a list) and applies function on all the elements of the list:\n",
    "#For ex:\n",
    "\n",
    "nums = [2, 4, 6, 8, 10]\n",
    "\n",
    "result = map(lambda a: a ** 2, nums)\n",
    "\n",
    "print(result) # This print will show mapped object. To see what it contents, we will have to use following command:\n",
    "print(list(result))\n"
   ]
  },
  {
   "cell_type": "code",
   "execution_count": 37,
   "metadata": {},
   "outputs": [
    {
     "name": "stdout",
     "output_type": "stream",
     "text": [
      "['samwise', 'aragorn', 'boromir', 'legolas', 'gandalf']\n"
     ]
    }
   ],
   "source": [
    "# Find the words in the list that have more than 6 characters using function named 'filter':\n",
    "\n",
    "# Create a list of strings: fellowship\n",
    "fellowship = ['frodo', 'samwise', 'merry', 'pippin', 'aragorn', 'boromir', 'legolas', 'gimli', 'gandalf']\n",
    "\n",
    "# Use filter() to apply a lambda function over fellowship: result\n",
    "result = filter(lambda member: len(member)>6, fellowship)\n",
    "\n",
    "# Convert result to a list: result_list\n",
    "\n",
    "result_list = list(result)\n",
    "\n",
    "# Print result_list\n",
    "print(result_list)\n"
   ]
  },
  {
   "cell_type": "code",
   "execution_count": 39,
   "metadata": {},
   "outputs": [
    {
     "ename": "ValueError",
     "evalue": "could not convert string to float: 'hello'",
     "output_type": "error",
     "traceback": [
      "\u001b[1;31m---------------------------------------------------------------------------\u001b[0m",
      "\u001b[1;31mValueError\u001b[0m                                Traceback (most recent call last)",
      "\u001b[1;32m<ipython-input-39-fe20a68ae2d2>\u001b[0m in \u001b[0;36m<module>\u001b[1;34m\u001b[0m\n\u001b[0;32m      2\u001b[0m \u001b[1;31m# Passing an incorrect argument:\u001b[0m\u001b[1;33m\u001b[0m\u001b[1;33m\u001b[0m\u001b[1;33m\u001b[0m\u001b[0m\n\u001b[0;32m      3\u001b[0m \u001b[1;33m\u001b[0m\u001b[0m\n\u001b[1;32m----> 4\u001b[1;33m \u001b[0mfloat\u001b[0m\u001b[1;33m(\u001b[0m\u001b[1;34m'hello'\u001b[0m\u001b[1;33m)\u001b[0m\u001b[1;33m\u001b[0m\u001b[1;33m\u001b[0m\u001b[0m\n\u001b[0m\u001b[0;32m      5\u001b[0m \u001b[1;33m\u001b[0m\u001b[0m\n\u001b[0;32m      6\u001b[0m \u001b[1;31m#So here its throwing value error\u001b[0m\u001b[1;33m\u001b[0m\u001b[1;33m\u001b[0m\u001b[1;33m\u001b[0m\u001b[0m\n",
      "\u001b[1;31mValueError\u001b[0m: could not convert string to float: 'hello'"
     ]
    }
   ],
   "source": [
    "# Introduction to error handling:\n",
    "# Passing an incorrect argument:\n",
    "\n",
    "float('hello')\n",
    "\n",
    "#So here its throwing value error"
   ]
  },
  {
   "cell_type": "code",
   "execution_count": 43,
   "metadata": {},
   "outputs": [
    {
     "name": "stdout",
     "output_type": "stream",
     "text": [
      "5.0\n",
      "****************************************************************************************************\n"
     ]
    },
    {
     "ename": "TypeError",
     "evalue": "unsupported operand type(s) for ** or pow(): 'str' and 'float'",
     "output_type": "error",
     "traceback": [
      "\u001b[1;31m---------------------------------------------------------------------------\u001b[0m",
      "\u001b[1;31mTypeError\u001b[0m                                 Traceback (most recent call last)",
      "\u001b[1;32m<ipython-input-43-0c6c3ff2fea8>\u001b[0m in \u001b[0;36m<module>\u001b[1;34m\u001b[0m\n\u001b[0;32m     12\u001b[0m \u001b[1;31m#But now consider error for following example:\u001b[0m\u001b[1;33m\u001b[0m\u001b[1;33m\u001b[0m\u001b[1;33m\u001b[0m\u001b[0m\n\u001b[0;32m     13\u001b[0m \u001b[1;33m\u001b[0m\u001b[0m\n\u001b[1;32m---> 14\u001b[1;33m \u001b[0msqrt\u001b[0m\u001b[1;33m(\u001b[0m\u001b[1;34m'hello'\u001b[0m\u001b[1;33m)\u001b[0m\u001b[1;33m\u001b[0m\u001b[1;33m\u001b[0m\u001b[0m\n\u001b[0m",
      "\u001b[1;32m<ipython-input-43-0c6c3ff2fea8>\u001b[0m in \u001b[0;36msqrt\u001b[1;34m(x)\u001b[0m\n\u001b[0;32m      2\u001b[0m \u001b[1;33m\u001b[0m\u001b[0m\n\u001b[0;32m      3\u001b[0m \u001b[1;32mdef\u001b[0m \u001b[0msqrt\u001b[0m\u001b[1;33m(\u001b[0m\u001b[0mx\u001b[0m\u001b[1;33m)\u001b[0m\u001b[1;33m:\u001b[0m\u001b[1;33m\u001b[0m\u001b[1;33m\u001b[0m\u001b[0m\n\u001b[1;32m----> 4\u001b[1;33m     \u001b[0mk\u001b[0m \u001b[1;33m=\u001b[0m \u001b[0mx\u001b[0m\u001b[1;33m**\u001b[0m\u001b[1;36m0.5\u001b[0m\u001b[1;33m\u001b[0m\u001b[1;33m\u001b[0m\u001b[0m\n\u001b[0m\u001b[0;32m      5\u001b[0m     \u001b[0mprint\u001b[0m\u001b[1;33m(\u001b[0m\u001b[0mk\u001b[0m\u001b[1;33m)\u001b[0m\u001b[1;33m\u001b[0m\u001b[1;33m\u001b[0m\u001b[0m\n\u001b[0;32m      6\u001b[0m \u001b[1;33m\u001b[0m\u001b[0m\n",
      "\u001b[1;31mTypeError\u001b[0m: unsupported operand type(s) for ** or pow(): 'str' and 'float'"
     ]
    }
   ],
   "source": [
    "#Consider below example:\n",
    "\n",
    "def sqrt(x):\n",
    "    k = x**0.5\n",
    "    print(k)\n",
    "    \n",
    "\n",
    "sqrt(25)\n",
    "\n",
    "print(100*'*')\n",
    "\n",
    "#But now consider error for following example:\n",
    "\n",
    "sqrt('hello')\n",
    "\n",
    "#So here we are getting type error."
   ]
  },
  {
   "cell_type": "code",
   "execution_count": 73,
   "metadata": {},
   "outputs": [
    {
     "name": "stdout",
     "output_type": "stream",
     "text": [
      "7.0\n",
      "x must be a float or an int\n"
     ]
    }
   ],
   "source": [
    "# Exceptions - caught during execution:\n",
    "\n",
    "#Sometimes errors we get after running wrong code may not be user friendly to deduce some insights out of it.\n",
    "#So we use try-except in such cases.\n",
    "\n",
    "#● Catch exceptions with try-except clause\n",
    "#● Runs the code following try\n",
    "#● If there’s an exception, run the code following except.\n",
    "\n",
    "#For example, if for the above example if we want to give the error as 'Value entered must be float or int:\n",
    "\n",
    "def sqrt(x):\n",
    "    \"\"\"Returns the square root of a number.\"\"\"\n",
    "    try:\n",
    "        print( x**0.5 )\n",
    "    except:\n",
    "        print('x must be a float or an int')\n",
    "\n",
    "sqrt(49)\n",
    "\n",
    "sqrt('hey')\n"
   ]
  },
  {
   "cell_type": "code",
   "execution_count": 74,
   "metadata": {},
   "outputs": [
    {
     "name": "stdout",
     "output_type": "stream",
     "text": [
      "(4.286263797015736e-16+7j)\n",
      "None\n"
     ]
    }
   ],
   "source": [
    "#Now while finding square root of negative number, python will calculate it and will give us output.\n",
    "#For ex.:\n",
    "\n",
    "print(sqrt(-49))\n"
   ]
  },
  {
   "cell_type": "code",
   "execution_count": 76,
   "metadata": {},
   "outputs": [
    {
     "ename": "ValueError",
     "evalue": "x must be non-negative",
     "output_type": "error",
     "traceback": [
      "\u001b[1;31m---------------------------------------------------------------------------\u001b[0m",
      "\u001b[1;31mValueError\u001b[0m                                Traceback (most recent call last)",
      "\u001b[1;32m<ipython-input-76-1d7a02cdd5cd>\u001b[0m in \u001b[0;36m<module>\u001b[1;34m\u001b[0m\n\u001b[0;32m     11\u001b[0m         \u001b[0mprint\u001b[0m\u001b[1;33m(\u001b[0m\u001b[1;34m'x must be an int or float'\u001b[0m\u001b[1;33m)\u001b[0m\u001b[1;33m\u001b[0m\u001b[1;33m\u001b[0m\u001b[0m\n\u001b[0;32m     12\u001b[0m \u001b[1;33m\u001b[0m\u001b[0m\n\u001b[1;32m---> 13\u001b[1;33m \u001b[0msqrt\u001b[0m\u001b[1;33m(\u001b[0m\u001b[1;33m-\u001b[0m\u001b[1;36m49\u001b[0m\u001b[1;33m)\u001b[0m\u001b[1;33m\u001b[0m\u001b[1;33m\u001b[0m\u001b[0m\n\u001b[0m",
      "\u001b[1;32m<ipython-input-76-1d7a02cdd5cd>\u001b[0m in \u001b[0;36msqrt\u001b[1;34m(x)\u001b[0m\n\u001b[0;32m      5\u001b[0m     \u001b[1;34m\"\"\"Returns the square root of a number.\"\"\"\u001b[0m\u001b[1;33m\u001b[0m\u001b[1;33m\u001b[0m\u001b[0m\n\u001b[0;32m      6\u001b[0m     \u001b[1;32mif\u001b[0m \u001b[0mx\u001b[0m\u001b[1;33m<\u001b[0m\u001b[1;36m0\u001b[0m\u001b[1;33m:\u001b[0m\u001b[1;33m\u001b[0m\u001b[1;33m\u001b[0m\u001b[0m\n\u001b[1;32m----> 7\u001b[1;33m         \u001b[1;32mraise\u001b[0m \u001b[0mValueError\u001b[0m\u001b[1;33m(\u001b[0m\u001b[1;34m'x must be non-negative'\u001b[0m\u001b[1;33m)\u001b[0m\u001b[1;33m\u001b[0m\u001b[1;33m\u001b[0m\u001b[0m\n\u001b[0m\u001b[0;32m      8\u001b[0m     \u001b[1;32mtry\u001b[0m\u001b[1;33m:\u001b[0m\u001b[1;33m\u001b[0m\u001b[1;33m\u001b[0m\u001b[0m\n\u001b[0;32m      9\u001b[0m         \u001b[1;32mreturn\u001b[0m \u001b[0mx\u001b[0m \u001b[1;33m**\u001b[0m \u001b[1;36m0.5\u001b[0m\u001b[1;33m\u001b[0m\u001b[1;33m\u001b[0m\u001b[0m\n",
      "\u001b[1;31mValueError\u001b[0m: x must be non-negative"
     ]
    }
   ],
   "source": [
    "#But if we want to raise error for negative numbers, we can do as follows:\n",
    "\n",
    "def sqrt(x):\n",
    "    \n",
    "    \"\"\"Returns the square root of a number.\"\"\"\n",
    "    if x<0:\n",
    "        raise ValueError('x must be non-negative')\n",
    "    try:\n",
    "        return x ** 0.5\n",
    "    except TypeError:\n",
    "        print('x must be an int or float')\n",
    "\n",
    "sqrt(-49)"
   ]
  },
  {
   "cell_type": "code",
   "execution_count": 1,
   "metadata": {},
   "outputs": [
    {
     "name": "stdout",
     "output_type": "stream",
     "text": [
      "particleparticleparticleparticleparticle!!!\n"
     ]
    },
    {
     "ename": "ValueError",
     "evalue": "echo must be greater than 0",
     "output_type": "error",
     "traceback": [
      "\u001b[1;31m---------------------------------------------------------------------------\u001b[0m",
      "\u001b[1;31mValueError\u001b[0m                                Traceback (most recent call last)",
      "\u001b[1;32m<ipython-input-1-1d9ea297bf57>\u001b[0m in \u001b[0;36m<module>\u001b[1;34m\u001b[0m\n\u001b[0;32m     19\u001b[0m \u001b[1;31m# Call shout_echo\u001b[0m\u001b[1;33m\u001b[0m\u001b[1;33m\u001b[0m\u001b[1;33m\u001b[0m\u001b[0m\n\u001b[0;32m     20\u001b[0m \u001b[0mprint\u001b[0m\u001b[1;33m(\u001b[0m\u001b[0mshout_echo\u001b[0m\u001b[1;33m(\u001b[0m\u001b[1;34m\"particle\"\u001b[0m\u001b[1;33m,\u001b[0m \u001b[0mecho\u001b[0m\u001b[1;33m=\u001b[0m\u001b[1;36m5\u001b[0m\u001b[1;33m)\u001b[0m\u001b[1;33m)\u001b[0m\u001b[1;33m\u001b[0m\u001b[1;33m\u001b[0m\u001b[0m\n\u001b[1;32m---> 21\u001b[1;33m \u001b[0mprint\u001b[0m\u001b[1;33m(\u001b[0m\u001b[0mshout_echo\u001b[0m\u001b[1;33m(\u001b[0m\u001b[1;34m\"particle\"\u001b[0m\u001b[1;33m,\u001b[0m \u001b[0mecho\u001b[0m\u001b[1;33m=\u001b[0m \u001b[1;33m-\u001b[0m\u001b[1;36m2\u001b[0m\u001b[1;33m)\u001b[0m\u001b[1;33m)\u001b[0m\u001b[1;33m\u001b[0m\u001b[1;33m\u001b[0m\u001b[0m\n\u001b[0m",
      "\u001b[1;32m<ipython-input-1-1d9ea297bf57>\u001b[0m in \u001b[0;36mshout_echo\u001b[1;34m(word1, echo)\u001b[0m\n\u001b[0;32m      6\u001b[0m     \u001b[1;31m# Raise an error with raise\u001b[0m\u001b[1;33m\u001b[0m\u001b[1;33m\u001b[0m\u001b[1;33m\u001b[0m\u001b[0m\n\u001b[0;32m      7\u001b[0m     \u001b[1;32mif\u001b[0m \u001b[0mecho\u001b[0m\u001b[1;33m<\u001b[0m\u001b[1;36m0\u001b[0m\u001b[1;33m:\u001b[0m\u001b[1;33m\u001b[0m\u001b[1;33m\u001b[0m\u001b[0m\n\u001b[1;32m----> 8\u001b[1;33m         \u001b[1;32mraise\u001b[0m \u001b[0mValueError\u001b[0m\u001b[1;33m(\u001b[0m\u001b[1;34m'echo must be greater than 0'\u001b[0m\u001b[1;33m)\u001b[0m\u001b[1;33m\u001b[0m\u001b[1;33m\u001b[0m\u001b[0m\n\u001b[0m\u001b[0;32m      9\u001b[0m \u001b[1;33m\u001b[0m\u001b[0m\n\u001b[0;32m     10\u001b[0m     \u001b[1;31m# Concatenate echo copies of word1 using *: echo_word\u001b[0m\u001b[1;33m\u001b[0m\u001b[1;33m\u001b[0m\u001b[1;33m\u001b[0m\u001b[0m\n",
      "\u001b[1;31mValueError\u001b[0m: echo must be greater than 0"
     ]
    }
   ],
   "source": [
    "# Define shout_echo\n",
    "def shout_echo(word1, echo=1):\n",
    "    \"\"\"Concatenate echo copies of word1 and three\n",
    "    exclamation marks at the end of the string.\"\"\"\n",
    "\n",
    "    # Raise an error with raise\n",
    "    if echo<0:\n",
    "        raise ValueError('echo must be greater than 0')\n",
    "\n",
    "    # Concatenate echo copies of word1 using *: echo_word\n",
    "    echo_word = word1 * echo\n",
    "\n",
    "    # Concatenate '!!!' to echo_word: shout_word\n",
    "    shout_word = echo_word + '!!!'\n",
    "\n",
    "    # Return shout_word\n",
    "    return shout_word\n",
    "\n",
    "# Call shout_echo\n",
    "print(shout_echo(\"particle\", echo=5))\n",
    "print(shout_echo(\"particle\", echo= -2))\n"
   ]
  },
  {
   "cell_type": "code",
   "execution_count": null,
   "metadata": {},
   "outputs": [],
   "source": []
  }
 ],
 "metadata": {
  "kernelspec": {
   "display_name": "Python 3",
   "language": "python",
   "name": "python3"
  },
  "language_info": {
   "codemirror_mode": {
    "name": "ipython",
    "version": 3
   },
   "file_extension": ".py",
   "mimetype": "text/x-python",
   "name": "python",
   "nbconvert_exporter": "python",
   "pygments_lexer": "ipython3",
   "version": "3.7.3"
  }
 },
 "nbformat": 4,
 "nbformat_minor": 2
}
