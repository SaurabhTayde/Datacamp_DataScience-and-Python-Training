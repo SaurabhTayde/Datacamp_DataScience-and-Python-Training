{
 "cells": [
  {
   "cell_type": "code",
   "execution_count": 1,
   "metadata": {},
   "outputs": [
    {
     "name": "stdout",
     "output_type": "stream",
     "text": [
      "15\n",
      "5.0\n",
      "4\n",
      "16\n"
     ]
    }
   ],
   "source": [
    "#Python as Calculator:\n",
    "\n",
    "#Multiplication\n",
    "print(3 * 5)\n",
    "\n",
    "#Division\n",
    "print(10 / 2)\n",
    "\n",
    "#Reminder\n",
    "print(18 % 7)\n",
    "\n",
    "#Exponential\n",
    "\n",
    "print(4 ** 2)\n"
   ]
  },
  {
   "cell_type": "code",
   "execution_count": 27,
   "metadata": {},
   "outputs": [
    {
     "name": "stdout",
     "output_type": "stream",
     "text": [
      "15\n"
     ]
    },
    {
     "data": {
      "text/plain": [
       "int"
      ]
     },
     "execution_count": 27,
     "metadata": {},
     "output_type": "execute_result"
    }
   ],
   "source": [
    "#Variable storage:\n",
    "\n",
    "k = 3\n",
    "m = 5\n",
    "\n",
    "print(k*m)"
   ]
  },
  {
   "cell_type": "code",
   "execution_count": 32,
   "metadata": {},
   "outputs": [
    {
     "name": "stdout",
     "output_type": "stream",
     "text": [
      "<class 'int'>\n",
      "<class 'float'>\n",
      "<class 'str'>\n",
      "<class 'bool'>\n"
     ]
    }
   ],
   "source": [
    "#Variable Types:\n",
    "\n",
    "a = 2\n",
    "print(type(a))\n",
    "\n",
    "b = 3.0\n",
    "print(type(b))\n",
    "\n",
    "c = 'saurabh'\n",
    "print(type(c))\n",
    "\n",
    "d = True\n",
    "print(type(d))\n"
   ]
  },
  {
   "cell_type": "code",
   "execution_count": 35,
   "metadata": {},
   "outputs": [
    {
     "name": "stdout",
     "output_type": "stream",
     "text": [
      "6\n",
      "abcd\n",
      "24\n"
     ]
    }
   ],
   "source": [
    "#Variable addition:\n",
    "\n",
    "print(2+4)\n",
    "print('ab' + 'cd')\n",
    "print('2'+'4')"
   ]
  },
  {
   "cell_type": "code",
   "execution_count": 41,
   "metadata": {},
   "outputs": [
    {
     "ename": "TypeError",
     "evalue": "can only concatenate str (not \"int\") to str",
     "output_type": "error",
     "traceback": [
      "\u001b[1;31m---------------------------------------------------------------------------\u001b[0m",
      "\u001b[1;31mTypeError\u001b[0m                                 Traceback (most recent call last)",
      "\u001b[1;32m<ipython-input-41-c602ffd64f08>\u001b[0m in \u001b[0;36m<module>\u001b[1;34m\u001b[0m\n\u001b[0;32m      4\u001b[0m \u001b[1;33m\u001b[0m\u001b[0m\n\u001b[0;32m      5\u001b[0m \u001b[1;31m# Fix the printout\u001b[0m\u001b[1;33m\u001b[0m\u001b[1;33m\u001b[0m\u001b[1;33m\u001b[0m\u001b[0m\n\u001b[1;32m----> 6\u001b[1;33m \u001b[0mprint\u001b[0m\u001b[1;33m(\u001b[0m\u001b[1;34m\"I started with $\"\u001b[0m \u001b[1;33m+\u001b[0m \u001b[0msavings\u001b[0m \u001b[1;33m+\u001b[0m \u001b[1;34m\" and now have $\"\u001b[0m \u001b[1;33m+\u001b[0m \u001b[0mresult\u001b[0m \u001b[1;33m+\u001b[0m \u001b[1;34m\". Awesome!\"\u001b[0m\u001b[1;33m)\u001b[0m\u001b[1;33m\u001b[0m\u001b[1;33m\u001b[0m\u001b[0m\n\u001b[0m",
      "\u001b[1;31mTypeError\u001b[0m: can only concatenate str (not \"int\") to str"
     ]
    }
   ],
   "source": [
    "# Importance of conversion (following code throws error):\n",
    "savings = 100\n",
    "result = 100 * 1.10 ** 7\n",
    "\n",
    "# Fix the printout\n",
    "print(\"I started with $\" + savings + \" and now have $\" + result + \". Awesome!\")\n"
   ]
  },
  {
   "cell_type": "code",
   "execution_count": 43,
   "metadata": {},
   "outputs": [
    {
     "name": "stdout",
     "output_type": "stream",
     "text": [
      "I started with $100 and now have $194.87171000000012. Awesome!\n"
     ]
    }
   ],
   "source": [
    "# Importance of conversion (following code doesnt throw error):\n",
    "# Definition of savings and result\n",
    "savings = 100\n",
    "result = 100 * 1.10 ** 7\n",
    "\n",
    "# Fix the printout\n",
    "print(\"I started with $\" + str(savings) + \" and now have $\" + str(result) + \". Awesome!\")"
   ]
  },
  {
   "cell_type": "code",
   "execution_count": 9,
   "metadata": {},
   "outputs": [
    {
     "name": "stdout",
     "output_type": "stream",
     "text": [
      "[1.73, 1.68, 1.71, 1.89]\n",
      "['liz', 1.73, 'emma', 1.68, 'mom', 1.71, 'dad', 1.89]\n",
      "[['liz', 1.73], ['emma', 1.68], ['mom', 1.71], ['dad', 1.89]]\n"
     ]
    }
   ],
   "source": [
    "# Lists :\n",
    "# Instead of creating different variable for each number, its better to create  list:\n",
    "\n",
    "#Consider following example of heights in family:\n",
    "\n",
    "fam = [1.73, 1.68, 1.71, 1.89]\n",
    "\n",
    "print(fam)\n",
    "\n",
    "#Lists can also hold different variable types:\n",
    "\n",
    "fam2 = [\"liz\", 1.73, \"emma\", 1.68, \"mom\", 1.71, \"dad\", 1.89] \n",
    "print(fam2)\n",
    "\n",
    "#Lists can also contain lists:\n",
    "\n",
    "fam3 = [[\"liz\", 1.73],                  [\"emma\", 1.68],                  [\"mom\", 1.71],                  [\"dad\", 1.89]] \n",
    "print(fam3)\n",
    "\n"
   ]
  },
  {
   "cell_type": "code",
   "execution_count": 16,
   "metadata": {},
   "outputs": [
    {
     "name": "stdout",
     "output_type": "stream",
     "text": [
      "['liz', 1.73, 'emma', 1.68, 'mom', 1.71, 'dad', 1.89]\n",
      "liz\n",
      "1.89\n"
     ]
    }
   ],
   "source": [
    "#Subsetting the lists:\n",
    "\n",
    "#Indexing: \n",
    "\n",
    "#In python indexing starts from 0 from front and from -1 from end:\n",
    "\n",
    "fam2 = [\"liz\", 1.73, \"emma\", 1.68, \"mom\", 1.71, \"dad\", 1.89] \n",
    "print(fam2)\n",
    "\n",
    "print (fam2[0])\n",
    "print (fam2[-1])\n"
   ]
  },
  {
   "cell_type": "code",
   "execution_count": 28,
   "metadata": {},
   "outputs": [
    {
     "name": "stdout",
     "output_type": "stream",
     "text": [
      "['liz', 1.73, 'emma', 1.68, 'mom', 1.71, 'dad', 1.89]\n",
      "[1.68, 'mom']\n",
      "[1.73, 'emma', 1.68]\n",
      "['liz', 1.73, 'emma']\n",
      "[1.71, 'dad', 1.89]\n",
      "['liz', 1.73, 'emma', 1.68]\n",
      "['mom', 1.71, 'dad', 1.89]\n"
     ]
    }
   ],
   "source": [
    "# Slicing the list:\n",
    "\n",
    "fam2 = [\"liz\", 1.73, \"emma\", 1.68, \"mom\", 1.71, \"dad\", 1.89] \n",
    "print(fam2)\n",
    "# [ start : end ] = inclusive exclusive\n",
    "\n",
    "print (fam2[3:5])\n",
    "print (fam2[1:4])\n",
    "print(fam2[:3])\n",
    "print(fam2[5:])\n",
    "\n",
    "#To print the first four elements:\n",
    "\n",
    "print(fam2[:4])\n",
    "\n",
    "#To print last four elements of list:\n",
    "\n",
    "print(fam2[-4:])\n"
   ]
  },
  {
   "cell_type": "code",
   "execution_count": 7,
   "metadata": {},
   "outputs": [
    {
     "name": "stdout",
     "output_type": "stream",
     "text": [
      "['liz', 1.73, 'emma', 1.68, 'mom', 1.71, 'dad', 1.89]\n",
      "['liz', 1.73, 'emma', 1.68, 'mom', 1.71, 'dad', 1.86]\n"
     ]
    }
   ],
   "source": [
    "#List Manipulation:\n",
    "\n",
    "fam2 = [\"liz\", 1.73, \"emma\", 1.68, \"mom\", 1.71, \"dad\", 1.89]\n",
    "print(fam2)\n",
    "\n",
    "#If we want to change 1.89 to 1.86:\n",
    "\n",
    "fam2[-1] = 1.86\n",
    "print(fam2)\n"
   ]
  },
  {
   "cell_type": "code",
   "execution_count": 12,
   "metadata": {},
   "outputs": [
    {
     "name": "stdout",
     "output_type": "stream",
     "text": [
      "['lisa', 1.74, 'emma', 1.68, 'mom', 1.71, 'dad', 1.86]\n",
      "['lisa', 1.74, 'emma', 1.68, 'mom', 1.71, 'dad', 1.86, 'me', 1.79]\n"
     ]
    }
   ],
   "source": [
    "#If we want to change 1st two elements in the list:\n",
    "\n",
    "fam2[:2] = ['lisa', 1.74]\n",
    "print(fam2)\n",
    "\n",
    "#If we want add new elements to the list:\n",
    "\n",
    "fam2_ext = fam2 + ['me', 1.79]\n",
    "print(fam2_ext)"
   ]
  },
  {
   "cell_type": "code",
   "execution_count": 18,
   "metadata": {},
   "outputs": [
    {
     "name": "stdout",
     "output_type": "stream",
     "text": [
      "['liz', 1.73, 1.68, 'mom', 1.71, 'dad', 1.89]\n",
      "['liz', 1.73, 'mom', 1.71, 'dad', 1.89]\n"
     ]
    }
   ],
   "source": [
    "fam2 = [\"liz\", 1.73, \"emma\", 1.68, \"mom\", 1.71, \"dad\", 1.89]\n",
    "\n",
    "#If we want to delete 3rd element in the list:\n",
    "\n",
    "del(fam2[2])\n",
    "print(fam2)\n",
    "\n",
    "#If we again delete the 3rd element, result will e as follows:\n",
    "del(fam2[2])\n",
    "print(fam2)"
   ]
  },
  {
   "cell_type": "code",
   "execution_count": 21,
   "metadata": {},
   "outputs": [
    {
     "name": "stdout",
     "output_type": "stream",
     "text": [
      "['a', 'b', 'c']\n",
      "['a', 'z', 'c']\n",
      "['a', 'z', 'c']\n"
     ]
    }
   ],
   "source": [
    "# Behind the scenes:\n",
    "\n",
    "x = ['a', 'b', 'c']\n",
    "print(x)\n",
    "\n",
    "#Let's try to copy the list from one list to other:\n",
    "y = x\n",
    "\n",
    "#Lets change the element and check both the lists:\n",
    "y[1] = 'z'\n",
    "print(y)\n",
    "print(x)"
   ]
  },
  {
   "cell_type": "code",
   "execution_count": 31,
   "metadata": {},
   "outputs": [
    {
     "name": "stdout",
     "output_type": "stream",
     "text": [
      "y: ['a', 'b', 'c']\n",
      "y (after changing the element): ['a', 'z', 'c']\n",
      "x: ['a', 'b', 'c']\n"
     ]
    }
   ],
   "source": [
    "#So from the above results, we can see that along with the contets in y, contents in x are also changed,\n",
    "#This is coz, when we tried to copy x to y with the equal sign, we copied the reference to the list, not actual value themselves.\n",
    "#So both the lists point to the same address so the same values\n",
    "\n",
    "#So for copying the list, we need to use following syntax:\n",
    "\n",
    "x = ['a', 'b', 'c']\n",
    "\n",
    "y = x[:]\n",
    "\n",
    "print('y:',y)\n",
    "\n",
    "#Lets change the element and check both the lists:\n",
    "y[1] = 'z'\n",
    "\n",
    "print('y (after changing the element):',y)\n",
    "print('x:',x)\n"
   ]
  },
  {
   "cell_type": "code",
   "execution_count": 38,
   "metadata": {},
   "outputs": [
    {
     "name": "stdout",
     "output_type": "stream",
     "text": [
      "[1.73, 1.68, 1.71, 1.89]\n",
      "1.89\n",
      "1.68\n"
     ]
    }
   ],
   "source": [
    "# Functions:\n",
    "\n",
    "fam = [1.73, 1.68, 1.71, 1.89]\n",
    "print(fam)\n",
    "\n",
    "#Max, min function:\n",
    "\n",
    "print(max(fam))\n",
    "print(min(fam))"
   ]
  },
  {
   "cell_type": "code",
   "execution_count": 40,
   "metadata": {},
   "outputs": [
    {
     "data": {
      "text/plain": [
       "2.76"
      ]
     },
     "execution_count": 40,
     "metadata": {},
     "output_type": "execute_result"
    }
   ],
   "source": [
    "#Round Function:\n",
    "\n",
    "round(2.7632, 2)"
   ]
  },
  {
   "cell_type": "code",
   "execution_count": 42,
   "metadata": {},
   "outputs": [
    {
     "data": {
      "text/plain": [
       "3"
      ]
     },
     "execution_count": 42,
     "metadata": {},
     "output_type": "execute_result"
    }
   ],
   "source": [
    "round(2.972)"
   ]
  },
  {
   "cell_type": "code",
   "execution_count": 44,
   "metadata": {},
   "outputs": [
    {
     "data": {
      "text/plain": [
       "2.093"
      ]
     },
     "execution_count": 44,
     "metadata": {},
     "output_type": "execute_result"
    }
   ],
   "source": [
    "round(2.09283, 3)"
   ]
  },
  {
   "cell_type": "code",
   "execution_count": 48,
   "metadata": {},
   "outputs": [
    {
     "name": "stdout",
     "output_type": "stream",
     "text": [
      "[1.68, 1.71, 1.73, 1.89]\n",
      "[1.89, 1.73, 1.71, 1.68]\n"
     ]
    }
   ],
   "source": [
    "#Ascending, Descending order of the list:\n",
    "\n",
    "# Sort function:\n",
    "\n",
    "#Ascending:\n",
    "print(sorted(fam))\n",
    "\n",
    "#Descending:\n",
    "print(sorted(fam, reverse = True))\n"
   ]
  },
  {
   "cell_type": "code",
   "execution_count": 52,
   "metadata": {},
   "outputs": [
    {
     "data": {
      "text/plain": [
       "4"
      ]
     },
     "execution_count": 52,
     "metadata": {},
     "output_type": "execute_result"
    }
   ],
   "source": [
    "#Methods:\n",
    "\n",
    "fam2 = [\"liz\", 1.73, \"emma\", 1.68, \"mom\", 1.71, \"dad\", 1.89]\n",
    "\n",
    "#Checking index of particular element in the list:\n",
    "\n",
    "fam2.index('mom')\n",
    "\n",
    "#'index' method is available both for index and lists"
   ]
  },
  {
   "cell_type": "code",
   "execution_count": 54,
   "metadata": {},
   "outputs": [
    {
     "data": {
      "text/plain": [
       "1"
      ]
     },
     "execution_count": 54,
     "metadata": {},
     "output_type": "execute_result"
    }
   ],
   "source": [
    "#Count a particular number of element in a list:\n",
    "fam2.count(1.73)"
   ]
  },
  {
   "cell_type": "code",
   "execution_count": 75,
   "metadata": {},
   "outputs": [
    {
     "name": "stdout",
     "output_type": "stream",
     "text": [
      "Liz\n",
      "LIZ\n",
      "lisa\n"
     ]
    }
   ],
   "source": [
    "#String manipulation:\n",
    "\n",
    "name = 'liz'\n",
    "\n",
    "#Capitalize first letter:\n",
    "print(name.capitalize())\n",
    "      \n",
    "#Capitalize all letters in name:\n",
    "print(name.upper())      # Similarly name.lower() will decapitize the name\n",
    "\n",
    "#Replace letter in name:\n",
    "\n",
    "print(name.replace('z', 'sa'))\n",
    "\n",
    "#Note: 'replace' doesnt work for lists"
   ]
  },
  {
   "cell_type": "code",
   "execution_count": 71,
   "metadata": {},
   "outputs": [
    {
     "name": "stdout",
     "output_type": "stream",
     "text": [
      "Old: ['liz', 1.73, 'emma', 1.68, 'mom', 1.71, 'dad', 1.89]\n",
      "New1: ['liz', 1.73, 'emma', 1.68, 'mom', 1.71, 'dad', 1.89, 'me']\n",
      "New2: ['liz', 1.73, 'emma', 1.68, 'mom', 1.71, 'dad', 1.89, 'me', 1.79]\n"
     ]
    }
   ],
   "source": [
    "#append:\n",
    "\n",
    "#append is used to add the element in the list:\n",
    "\n",
    "fam2 = [\"liz\", 1.73, \"emma\", 1.68, \"mom\", 1.71, \"dad\", 1.89]\n",
    "print('Old:',fam2)\n",
    "\n",
    "fam2.append('me')\n",
    "print('New1:',fam2)\n",
    "\n",
    "fam2.append(1.79)\n",
    "print('New2:',fam2)"
   ]
  },
  {
   "cell_type": "code",
   "execution_count": 7,
   "metadata": {},
   "outputs": [
    {
     "name": "stdout",
     "output_type": "stream",
     "text": [
      "['liz', 1.73, 'emma', 1.68, 'mom', 1.71, 'dad', 1.89]\n",
      "['liz', 1.73, 'emma', 1.68, 'mom', 1.71, 'dad']\n",
      "['liz', 'emma', 1.68, 'mom', 1.71, 'dad']\n"
     ]
    }
   ],
   "source": [
    "#remove():\n",
    "\n",
    "fam2 = [\"liz\", 1.73, \"emma\", 1.68, \"mom\", 1.71, \"dad\", 1.89]\n",
    "print(fam2)\n",
    "\n",
    "fam2.remove(1.89)\n",
    "print(fam2)\n",
    "\n",
    "fam2.remove(fam2[1])\n",
    "print(fam2)\n"
   ]
  },
  {
   "cell_type": "code",
   "execution_count": 14,
   "metadata": {},
   "outputs": [
    {
     "name": "stdout",
     "output_type": "stream",
     "text": [
      "[1.89, 'dad', 1.71, 'mom', 1.68, 'emma', 1.73, 'liz']\n",
      "None\n"
     ]
    }
   ],
   "source": [
    "#Reverse():\n",
    "\n",
    "fam2 = [\"liz\", 1.73, \"emma\", 1.68, \"mom\", 1.71, \"dad\", 1.89]\n",
    "fam3 = fam2.reverse()\n",
    "print(fam2)\n",
    "print(fam3)"
   ]
  },
  {
   "cell_type": "code",
   "execution_count": null,
   "metadata": {},
   "outputs": [],
   "source": [
    "•\t #Difference between Lists and array?\n",
    "#Lists can contain elements with different data type. Array can contain only numerical elements\n",
    "•\t #Why do we need numpy array if we have lists?\n",
    "#Lists cannot perform mathematical operations. Lists give error if we try to perform mathematical operations with 2 or more lists.\n",
    "#But array can perform mathematical operations and that’s why we need arrays.\n"
   ]
  },
  {
   "cell_type": "code",
   "execution_count": 17,
   "metadata": {},
   "outputs": [
    {
     "ename": "NameError",
     "evalue": "name 'array' is not defined",
     "output_type": "error",
     "traceback": [
      "\u001b[1;31m---------------------------------------------------------------------------\u001b[0m",
      "\u001b[1;31mNameError\u001b[0m                                 Traceback (most recent call last)",
      "\u001b[1;32m<ipython-input-17-a69721a7c87f>\u001b[0m in \u001b[0;36m<module>\u001b[1;34m\u001b[0m\n\u001b[0;32m      1\u001b[0m \u001b[1;32mimport\u001b[0m \u001b[0mnumpy\u001b[0m\u001b[1;33m\u001b[0m\u001b[1;33m\u001b[0m\u001b[0m\n\u001b[1;32m----> 2\u001b[1;33m \u001b[0marray\u001b[0m\u001b[1;33m(\u001b[0m\u001b[1;33m[\u001b[0m\u001b[1;36m1\u001b[0m\u001b[1;33m,\u001b[0m\u001b[1;36m2\u001b[0m\u001b[1;33m,\u001b[0m\u001b[1;36m3\u001b[0m\u001b[1;33m]\u001b[0m\u001b[1;33m)\u001b[0m\u001b[1;33m\u001b[0m\u001b[1;33m\u001b[0m\u001b[0m\n\u001b[0m",
      "\u001b[1;31mNameError\u001b[0m: name 'array' is not defined"
     ]
    }
   ],
   "source": [
    "import numpy\n",
    "array([1,2,3])"
   ]
  },
  {
   "cell_type": "code",
   "execution_count": 18,
   "metadata": {},
   "outputs": [
    {
     "data": {
      "text/plain": [
       "array([1, 2, 3])"
      ]
     },
     "execution_count": 18,
     "metadata": {},
     "output_type": "execute_result"
    }
   ],
   "source": [
    "#Above code is throwing error.\n",
    "#So we always needs to write the np (after importing numpy as np).\n",
    "\n",
    "numpy.array([1,2,3])"
   ]
  },
  {
   "cell_type": "code",
   "execution_count": 20,
   "metadata": {},
   "outputs": [
    {
     "data": {
      "text/plain": [
       "array([1, 2, 3])"
      ]
     },
     "execution_count": 20,
     "metadata": {},
     "output_type": "execute_result"
    }
   ],
   "source": [
    "#For short cut we can use np instead of numpy:\n",
    "\n",
    "import numpy as np\n",
    "\n",
    "np.array([1,2,3])"
   ]
  },
  {
   "cell_type": "code",
   "execution_count": 26,
   "metadata": {},
   "outputs": [
    {
     "data": {
      "text/plain": [
       "array([1, 2, 3])"
      ]
     },
     "execution_count": 26,
     "metadata": {},
     "output_type": "execute_result"
    }
   ],
   "source": [
    "#Or we can also directly import array from numpy (which is not recommended coz in long code, \n",
    "#we dont understand in which package it fits):\n",
    "\n",
    "from numpy import array\n",
    "array([1,2,3])"
   ]
  },
  {
   "cell_type": "code",
   "execution_count": 28,
   "metadata": {},
   "outputs": [
    {
     "ename": "TypeError",
     "evalue": "unsupported operand type(s) for ** or pow(): 'list' and 'int'",
     "output_type": "error",
     "traceback": [
      "\u001b[1;31m---------------------------------------------------------------------------\u001b[0m",
      "\u001b[1;31mTypeError\u001b[0m                                 Traceback (most recent call last)",
      "\u001b[1;32m<ipython-input-28-d835e29c794b>\u001b[0m in \u001b[0;36m<module>\u001b[1;34m\u001b[0m\n\u001b[0;32m      1\u001b[0m \u001b[0mheight\u001b[0m \u001b[1;33m=\u001b[0m \u001b[1;33m[\u001b[0m\u001b[1;36m1.73\u001b[0m\u001b[1;33m,\u001b[0m \u001b[1;36m1.68\u001b[0m\u001b[1;33m,\u001b[0m \u001b[1;36m1.71\u001b[0m\u001b[1;33m,\u001b[0m \u001b[1;36m1.89\u001b[0m\u001b[1;33m,\u001b[0m \u001b[1;36m1.79\u001b[0m\u001b[1;33m]\u001b[0m\u001b[1;33m\u001b[0m\u001b[1;33m\u001b[0m\u001b[0m\n\u001b[0;32m      2\u001b[0m \u001b[0mweight\u001b[0m \u001b[1;33m=\u001b[0m \u001b[1;33m[\u001b[0m\u001b[1;36m65.4\u001b[0m\u001b[1;33m,\u001b[0m \u001b[1;36m59.2\u001b[0m\u001b[1;33m,\u001b[0m \u001b[1;36m63.6\u001b[0m\u001b[1;33m,\u001b[0m \u001b[1;36m88.4\u001b[0m\u001b[1;33m,\u001b[0m \u001b[1;36m68.7\u001b[0m\u001b[1;33m]\u001b[0m\u001b[1;33m\u001b[0m\u001b[1;33m\u001b[0m\u001b[0m\n\u001b[1;32m----> 3\u001b[1;33m \u001b[0mweight\u001b[0m \u001b[1;33m/\u001b[0m \u001b[0mheight\u001b[0m \u001b[1;33m**\u001b[0m \u001b[1;36m2\u001b[0m\u001b[1;33m\u001b[0m\u001b[1;33m\u001b[0m\u001b[0m\n\u001b[0m",
      "\u001b[1;31mTypeError\u001b[0m: unsupported operand type(s) for ** or pow(): 'list' and 'int'"
     ]
    }
   ],
   "source": [
    "height = [1.73, 1.68, 1.71, 1.89, 1.79]\n",
    "weight = [65.4, 59.2, 63.6, 88.4, 68.7]\n",
    "weight / height ** 2\n"
   ]
  },
  {
   "cell_type": "code",
   "execution_count": 29,
   "metadata": {},
   "outputs": [
    {
     "data": {
      "text/plain": [
       "array([21.852, 20.975, 21.75 , 24.747, 21.441])"
      ]
     },
     "execution_count": 29,
     "metadata": {},
     "output_type": "execute_result"
    }
   ],
   "source": [
    "#Above code is throwing error as we are expecting that lists should perform mathematical opearations:\n",
    "\n",
    "#Mathematical operations can be performed as follows then:\n",
    "\n",
    "np_height = np.array(height)\n",
    "np_weight = np.array(weight)\n",
    "np_weight / np_height ** 2\n",
    "array([ 21.852, 20.975, 21.75 , 24.747, 21.441])\n",
    "\n",
    "#In above operation, we are converting lists into array and then performing maths operations\n"
   ]
  },
  {
   "cell_type": "code",
   "execution_count": 25,
   "metadata": {},
   "outputs": [
    {
     "name": "stdout",
     "output_type": "stream",
     "text": [
      "[2 4 6]\n",
      "[1, 2, 3, 1, 2, 3]\n"
     ]
    }
   ],
   "source": [
    "#•\tDifferent Data type have different behavior:\n",
    "\n",
    "print(np.array([1,2,3]) + np.array([1,2,3]))\n",
    "\n",
    "print([1,2,3] + [1,2,3])"
   ]
  },
  {
   "cell_type": "code",
   "execution_count": 32,
   "metadata": {},
   "outputs": [
    {
     "name": "stdout",
     "output_type": "stream",
     "text": [
      "20.975\n",
      "[False False False  True False]\n",
      "[24.747]\n"
     ]
    }
   ],
   "source": [
    "# Numpy subsetting:\n",
    "\n",
    "bmi = np.array([ 21.852, 20.975, 21.75 , 24.747, 21.441])\n",
    "\n",
    "#To select particular element in the array\n",
    "print(bmi[1])\n",
    "\n",
    "#To check whether which elements are greater or smaller than a particular element\n",
    "print(bmi > 23)\n",
    "\n",
    "#To print numbers greater or smaller than a particular number\n",
    "print(bmi[bmi > 23])\n"
   ]
  },
  {
   "cell_type": "code",
   "execution_count": 40,
   "metadata": {},
   "outputs": [
    {
     "name": "stdout",
     "output_type": "stream",
     "text": [
      "[[ 1.73  1.68  1.71  1.89  1.79]\n",
      " [65.4  59.2  63.6  88.4  68.7 ]]\n"
     ]
    }
   ],
   "source": [
    "# 2D Numpy arrays:\n",
    "\n",
    "np_2d = np.array([[1.73, 1.68, 1.71, 1.89, 1.79],\n",
    " [65.4, 59.2, 63.6, 88.4, 68.7]]) \n",
    "\n",
    "print(np_2d)\n"
   ]
  },
  {
   "cell_type": "code",
   "execution_count": 45,
   "metadata": {},
   "outputs": [
    {
     "data": {
      "text/plain": [
       "(2, 5)"
      ]
     },
     "execution_count": 45,
     "metadata": {},
     "output_type": "execute_result"
    }
   ],
   "source": [
    "# To check the dimension of te array:\n",
    "\n",
    "np_2d.shape"
   ]
  },
  {
   "cell_type": "code",
   "execution_count": 47,
   "metadata": {},
   "outputs": [
    {
     "data": {
      "text/plain": [
       "array([['1.73', '1.68', '1.71', '1.89', '1.79'],\n",
       "       ['65.4', '59.2', '63.6', '88.4', '68.7']], dtype='<U32')"
      ]
     },
     "execution_count": 47,
     "metadata": {},
     "output_type": "execute_result"
    }
   ],
   "source": [
    "#Lets try to add an alphabetical character in the array:\n",
    "\n",
    "np.array([[1.73, 1.68, 1.71, 1.89, 1.79],\n",
    " [65.4, 59.2, 63.6, 88.4, \"68.7\"]]) \n",
    "\n",
    "#So from the output we can see that numbers are converted into characters. So only single data type is allowed in the array"
   ]
  },
  {
   "cell_type": "code",
   "execution_count": 53,
   "metadata": {},
   "outputs": [
    {
     "name": "stdout",
     "output_type": "stream",
     "text": [
      "[1.73 1.68 1.71 1.89 1.79]\n",
      "1.71\n",
      "1.71\n",
      "[[ 1.68  1.71]\n",
      " [59.2  63.6 ]]\n",
      "[65.4 59.2 63.6 88.4 68.7]\n"
     ]
    }
   ],
   "source": [
    "#2d array subsetting:\n",
    "\n",
    "print(np_2d[0])\n",
    "\n",
    "print(np_2d[0][2])\n",
    "print(np_2d[0,2])\n",
    "\n",
    "#So both the above 2 lines give same \n",
    "\n",
    "print (np_2d[:,1:3])   # This line indicates all rows and 2nd,3rd column\n",
    "\n",
    "print(np_2d[1, :])   # This line indicates first row and columns"
   ]
  },
  {
   "cell_type": "code",
   "execution_count": 65,
   "metadata": {},
   "outputs": [
    {
     "name": "stdout",
     "output_type": "stream",
     "text": [
      "[[1 1 1]\n",
      " [0 0 0]]\n",
      "[[ 2  2  2]\n",
      " [-1 -1 -1]]\n",
      "[[ 3  3  3]\n",
      " [-1 -1 -1]]\n"
     ]
    }
   ],
   "source": [
    "# 2d array arithmetic opearations:\n",
    "\n",
    "array1 = np.array([[1,1,1], [0,0,0]])\n",
    "print(array1)\n",
    "\n",
    "array2 = np.array([[2,2,2], [-1,-1,-1]])\n",
    "print(array2)\n",
    "\n",
    "print(array1 + array2)"
   ]
  },
  {
   "cell_type": "code",
   "execution_count": 77,
   "metadata": {},
   "outputs": [
    {
     "name": "stdout",
     "output_type": "stream",
     "text": [
      "[[ 2.05417769 20.07744339]\n",
      " [ 1.47439889 27.96800891]\n",
      " [ 2.01201112 67.36533938]\n",
      " ...\n",
      " [ 1.39027168 58.69489768]\n",
      " [ 1.59640093 72.27446477]\n",
      " [ 1.44566393 60.1730549 ]]\n"
     ]
    }
   ],
   "source": [
    "# Basic Statistics with Numpy:\n",
    "\n",
    "#First create random samples and create the two datasets:\n",
    "\n",
    "np_height = np.random.normal(1.5, 0.2, 2000)  #First number is mean, second is standard dev and third is number of samples\n",
    "#print(np_height)\n",
    "np_weight = np.random.normal(60, 20, 2000)\n",
    "#print(np_weight)\n",
    "\n",
    "np_city = np.column_stack((np_height, np_weight))  # Note this double bracket, single bracket will throw error\n",
    "print(np_city)"
   ]
  },
  {
   "cell_type": "markdown",
   "metadata": {},
   "source": [
    "\n",
    "\n"
   ]
  },
  {
   "cell_type": "code",
   "execution_count": 81,
   "metadata": {},
   "outputs": [
    {
     "name": "stdout",
     "output_type": "stream",
     "text": [
      "1.500103802202642\n",
      "11.065810540647565\n"
     ]
    }
   ],
   "source": [
    "#To find mean of the height:\n",
    "\n",
    "print(np.mean(np_city[:,0]))\n",
    "\n",
    "#To find median of the height:\n",
    "print(np.median(np_city[0,:]))\n",
    "\n",
    "#Same we can do for weight"
   ]
  },
  {
   "cell_type": "code",
   "execution_count": 85,
   "metadata": {},
   "outputs": [
    {
     "data": {
      "text/plain": [
       "array([[ 1.        , -0.03387967],\n",
       "       [-0.03387967,  1.        ]])"
      ]
     },
     "execution_count": 85,
     "metadata": {},
     "output_type": "execute_result"
    }
   ],
   "source": [
    "#To find correlation between height and weight:\n",
    "\n",
    "np.corrcoef(np_city[:,0], np_city[:,1])\n"
   ]
  },
  {
   "cell_type": "code",
   "execution_count": 87,
   "metadata": {},
   "outputs": [
    {
     "data": {
      "text/plain": [
       "0.19686534055775157"
      ]
     },
     "execution_count": 87,
     "metadata": {},
     "output_type": "execute_result"
    }
   ],
   "source": [
    "# To find the standard deviation:\n",
    "\n",
    "np.std(np_city[:,0])\n"
   ]
  },
  {
   "cell_type": "code",
   "execution_count": null,
   "metadata": {},
   "outputs": [],
   "source": []
  }
 ],
 "metadata": {
  "kernelspec": {
   "display_name": "Python 3",
   "language": "python",
   "name": "python3"
  },
  "language_info": {
   "codemirror_mode": {
    "name": "ipython",
    "version": 3
   },
   "file_extension": ".py",
   "mimetype": "text/x-python",
   "name": "python",
   "nbconvert_exporter": "python",
   "pygments_lexer": "ipython3",
   "version": "3.7.3"
  }
 },
 "nbformat": 4,
 "nbformat_minor": 2
}
