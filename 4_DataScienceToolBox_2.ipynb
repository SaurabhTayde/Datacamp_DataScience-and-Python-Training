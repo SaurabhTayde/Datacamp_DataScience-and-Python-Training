{
 "cells": [
  {
   "cell_type": "code",
   "execution_count": 68,
   "metadata": {},
   "outputs": [],
   "source": [
    "# Course contents:\n",
    "\n",
    "#List comprehensions:\n",
    "#● Wrangle data to create other lists\n",
    "#● Iterators\n",
    "#● You’ve encountered these before!\n",
    "#● Rapidly iterate data science protocols and\n",
    "#  procedures over sets of objects\n"
   ]
  },
  {
   "cell_type": "code",
   "execution_count": 15,
   "metadata": {},
   "outputs": [
    {
     "name": "stdout",
     "output_type": "stream",
     "text": [
      "saurabh\n",
      "ganesh\n",
      "tayde\n"
     ]
    }
   ],
   "source": [
    "#Iterating with a for loop:\n",
    "#● We can iterate over a list using a for loop:\n",
    "\n",
    "list1 = ['saurabh', 'ganesh', 'tayde']\n",
    "\n",
    "for i in list1:\n",
    "    print(i)"
   ]
  },
  {
   "cell_type": "code",
   "execution_count": 17,
   "metadata": {},
   "outputs": [
    {
     "name": "stdout",
     "output_type": "stream",
     "text": [
      "s\n",
      "a\n",
      "u\n",
      "r\n",
      "a\n",
      "b\n",
      "h\n"
     ]
    }
   ],
   "source": [
    "# Iterating with a for loop\n",
    "\n",
    "# We can iterate over a string using a for loop\n",
    "\n",
    "for i in 'saurabh':\n",
    "    print(i)\n"
   ]
  },
  {
   "cell_type": "code",
   "execution_count": 19,
   "metadata": {},
   "outputs": [
    {
     "name": "stdout",
     "output_type": "stream",
     "text": [
      "0\n",
      "1\n",
      "2\n",
      "3\n",
      "4\n",
      "5\n",
      "6\n",
      "7\n"
     ]
    }
   ],
   "source": [
    "# Iterating with a for loop\n",
    "\n",
    "# We can iterate over a range object using a for loop\n",
    "\n",
    "for i in range(8):\n",
    "    print(i)\n"
   ]
  },
  {
   "cell_type": "code",
   "execution_count": null,
   "metadata": {},
   "outputs": [],
   "source": [
    "#Iterators vs. iterables\n",
    "# ● Iterable:\n",
    "#   ● Examples: lists, strings, dictionaries, file connections\n",
    "#   ● An object with an associated iter() method\n",
    "#   ● Applying iter() to an iterable creates an iterator\n",
    "\n",
    "# ● Iterator:\n",
    "#   ● Produces next value with next()"
   ]
  },
  {
   "cell_type": "code",
   "execution_count": 23,
   "metadata": {},
   "outputs": [
    {
     "name": "stdout",
     "output_type": "stream",
     "text": [
      "s\n",
      "a\n",
      "u\n",
      "r\n"
     ]
    }
   ],
   "source": [
    "#Iterating over iterables: next()\n",
    "\n",
    "word = 'saurabh'\n",
    "\n",
    "it = iter(word)\n",
    "\n",
    "print(next(it))\n",
    "\n",
    "print(next(it))\n",
    "\n",
    "print(next(it))\n",
    "\n",
    "print(next(it))\n",
    "\n",
    "# and so on...\n"
   ]
  },
  {
   "cell_type": "code",
   "execution_count": 24,
   "metadata": {},
   "outputs": [
    {
     "name": "stdout",
     "output_type": "stream",
     "text": [
      "s a c h i n\n"
     ]
    }
   ],
   "source": [
    "#Iterating at once with *\n",
    "\n",
    "word = 'sachin'\n",
    "\n",
    "it = iter(word)\n",
    "\n",
    "print(*it)"
   ]
  },
  {
   "cell_type": "code",
   "execution_count": 28,
   "metadata": {},
   "outputs": [
    {
     "name": "stdout",
     "output_type": "stream",
     "text": [
      "rahul dravid\n",
      "vishy anand\n",
      "raghuram rajan\n",
      "APJ kalam\n"
     ]
    }
   ],
   "source": [
    "# Iterating over dictionaries:\n",
    "\n",
    "#NOTE: iter is not applicable for dictionaries.\n",
    "\n",
    "dict1 = {'rahul': 'dravid', 'vishy':'anand', 'raghuram':'rajan', 'APJ': 'kalam' }\n",
    "\n",
    "for value, key in dict1.items():\n",
    "    print(value, key)\n"
   ]
  },
  {
   "cell_type": "code",
   "execution_count": 36,
   "metadata": {},
   "outputs": [
    {
     "name": "stdout",
     "output_type": "stream",
     "text": [
      "<enumerate object at 0x00000181543FEA20>\n",
      "<class 'enumerate'>\n",
      "[(0, 'sachin'), (1, 'ARR'), (2, 'Rahul'), (3, 'Vishy')]\n"
     ]
    }
   ],
   "source": [
    "# Enumerate() object:\n",
    "\n",
    "list2 = ['sachin', 'ARR', 'Rahul', 'Vishy']\n",
    "\n",
    "e = enumerate(list2)\n",
    "\n",
    "print(e)\n",
    "\n",
    "print(type(e))\n",
    "\n",
    "#So from the output of above commands, we can say that enumerate converts list  into special enumerate type\n",
    "#This enumerate consists of enumerate object which has index of list linked with its correspoding objects\n",
    "\n",
    "e_list = list(e)\n",
    "\n",
    "print(e_list)"
   ]
  },
  {
   "cell_type": "code",
   "execution_count": 43,
   "metadata": {},
   "outputs": [
    {
     "name": "stdout",
     "output_type": "stream",
     "text": [
      "0 sachin\n",
      "1 ARR\n",
      "2 Rahul\n",
      "3 Vishy\n"
     ]
    }
   ],
   "source": [
    "#Enumerate() and Unpack:\n",
    "\n",
    "#enumerate object itself is a iterable:\n",
    "\n",
    "list2 = ['sachin', 'ARR', 'Rahul', 'Vishy']\n",
    "\n",
    "e = enumerate(list2)\n",
    "\n",
    "for index, value in e:\n",
    "    print(index, value)\n"
   ]
  },
  {
   "cell_type": "code",
   "execution_count": 45,
   "metadata": {},
   "outputs": [
    {
     "name": "stdout",
     "output_type": "stream",
     "text": [
      "10 sachin\n",
      "11 ARR\n",
      "12 Rahul\n",
      "13 Vishy\n"
     ]
    }
   ],
   "source": [
    "# Now suppose we want indexing from 10::\n",
    "\n",
    "stars = ['sachin', 'ARR', 'Rahul', 'Vishy']\n",
    "\n",
    "for index, value in enumerate(stars, start = 10):\n",
    "    print(index, value)\n"
   ]
  },
  {
   "cell_type": "code",
   "execution_count": 53,
   "metadata": {},
   "outputs": [
    {
     "name": "stdout",
     "output_type": "stream",
     "text": [
      "<zip object at 0x00000181543C4A48>\n",
      "<class 'zip'>\n"
     ]
    }
   ],
   "source": [
    "# Using zip:\n",
    "\n",
    "avengers = ['hawkeye', 'iron man', 'thor', 'quicksilver']\n",
    "names = ['barton', 'stark', 'odinson', 'maximoff']\n",
    "\n",
    "z = zip(avengers, names)\n",
    "\n",
    "print(z)\n",
    "print(type(z))\n",
    "\n",
    "#So we are getting zip as data type.\n",
    "#Lets convert this zip into list to make it visible"
   ]
  },
  {
   "cell_type": "code",
   "execution_count": 54,
   "metadata": {},
   "outputs": [
    {
     "name": "stdout",
     "output_type": "stream",
     "text": [
      "[('hawkeye', 'barton'), ('iron man', 'stark'), ('thor', 'odinson'), ('quicksilver', 'maximoff')]\n"
     ]
    }
   ],
   "source": [
    "z_list = list(z)\n",
    "\n",
    "print(z_list)"
   ]
  },
  {
   "cell_type": "code",
   "execution_count": 56,
   "metadata": {},
   "outputs": [
    {
     "name": "stdout",
     "output_type": "stream",
     "text": [
      "hawkeye barton\n",
      "iron man stark\n",
      "thor odinson\n",
      "quicksilver maximoff\n"
     ]
    }
   ],
   "source": [
    "# zip() and unpack:\n",
    "\n",
    "avengers = ['hawkeye', 'iron man', 'thor', 'quicksilver']\n",
    "names = ['barton', 'stark', 'odinson', 'maximoff']\n",
    "\n",
    "for z1,z2 in zip(avengers, names):\n",
    "    print(z1,z2)\n"
   ]
  },
  {
   "cell_type": "code",
   "execution_count": 57,
   "metadata": {},
   "outputs": [
    {
     "name": "stdout",
     "output_type": "stream",
     "text": [
      "('hawkeye', 'barton') ('iron man', 'stark') ('thor', 'odinson') ('quicksilver', 'maximoff')\n"
     ]
    }
   ],
   "source": [
    "avengers = ['hawkeye', 'iron man', 'thor', 'quicksilver']\n",
    "names = ['barton', 'stark', 'odinson', 'maximoff']\n",
    "\n",
    "z = zip(avengers, names)\n",
    "print(*z)\n"
   ]
  },
  {
   "cell_type": "code",
   "execution_count": 67,
   "metadata": {},
   "outputs": [
    {
     "name": "stdout",
     "output_type": "stream",
     "text": [
      "('charles xavier', 'telepathy') ('bobby drake', 'thermokinesis') ('kurt wagner', 'teleportation') ('max eisenhardt', 'magnetokinesis') ('kitty pryde', 'intangibility')\n",
      "True\n",
      "True\n"
     ]
    }
   ],
   "source": [
    "mutants = ('charles xavier', 'bobby drake', 'kurt wagner', 'max eisenhardt', 'kitty pryde')\n",
    "\n",
    "powers = ('telepathy', 'thermokinesis', 'teleportation', 'magnetokinesis', 'intangibility')\n",
    "\n",
    "# Create a zip object from mutants and powers: z1\n",
    "z1 = zip(mutants, powers)\n",
    "\n",
    "# Print the tuples in z1 by unpacking with *\n",
    "print(*z1)\n",
    "\n",
    "# Re-create a zip object from mutants and powers: z1\n",
    "z1 = zip(mutants, powers)\n",
    "\n",
    "# 'Unzip' the tuples in z1 by unpacking with * and zip(): result1, result2\n",
    "result1, result2 = zip(*z1)\n",
    "\n",
    "# Check if unpacked tuples are equivalent to original tuples\n",
    "print(result1 == mutants)\n",
    "print(result2 == powers)"
   ]
  },
  {
   "cell_type": "code",
   "execution_count": null,
   "metadata": {},
   "outputs": [],
   "source": [
    "# Using iterators for big data:\n",
    "\n",
    "#Loading data in chunks\n",
    "#● There can be too much data to hold in memory\n",
    "#● Solution: load data in chunks!\n",
    "#● Pandas function: read_csv()\n",
    "#● Specify the chunk: chunksize\n"
   ]
  },
  {
   "cell_type": "code",
   "execution_count": 2,
   "metadata": {},
   "outputs": [
    {
     "name": "stdout",
     "output_type": "stream",
     "text": [
      "[252, 261, 246, 235]\n",
      "994\n"
     ]
    }
   ],
   "source": [
    "import pandas as pd\n",
    "\n",
    "result = []\n",
    "    \n",
    "for chunk in pd.read_csv('C:/Users/stayde/Documents/Python Scripts/binary.csv', chunksize=100):\n",
    "    result.append(sum(chunk['rank']))\n",
    "                  \n",
    "print(result)\n",
    "\n",
    "print(sum(result))"
   ]
  },
  {
   "cell_type": "code",
   "execution_count": 3,
   "metadata": {},
   "outputs": [
    {
     "name": "stdout",
     "output_type": "stream",
     "text": [
      "[252, 261, 246, 235]\n",
      "994\n"
     ]
    }
   ],
   "source": [
    "#OR above operation can be perfomed as follows as well:\n",
    "\n",
    "import pandas as pd\n",
    "\n",
    "total = 0\n",
    "\n",
    "for chunk in pd.read_csv('C:/Users/stayde/Documents/Python Scripts/binary.csv', chunksize=100):\n",
    "    total = total + sum(chunk['rank'])\n",
    "                  \n",
    "print(result)\n",
    "\n",
    "\n",
    "print(sum(result))\n"
   ]
  },
  {
   "cell_type": "code",
   "execution_count": 10,
   "metadata": {},
   "outputs": [
    {
     "name": "stdout",
     "output_type": "stream",
     "text": [
      "[8, 7, 3, 2, 4]\n",
      "[9, 8, 4, 3, 5]\n"
     ]
    }
   ],
   "source": [
    "# List comprehensions and generators:\n",
    "\n",
    "list1 = [8,7,3,2,4]\n",
    "print(list1)\n",
    "list2 = []\n",
    "\n",
    "#Suppose now if we want to add one to this list:\n",
    "\n",
    "for i in list1:\n",
    "    list2.append(i +1)\n",
    "\n",
    "print(list2)\n"
   ]
  },
  {
   "cell_type": "code",
   "execution_count": 9,
   "metadata": {},
   "outputs": [
    {
     "name": "stdout",
     "output_type": "stream",
     "text": [
      "[8, 7, 3, 2, 4]\n",
      "[9, 8, 4, 3, 5]\n"
     ]
    }
   ],
   "source": [
    "# But for loops are inefficient both computationally and considering time too:\n",
    "\n",
    "#Above code can be written in one line:\n",
    "\n",
    "list1 = [8,7,3,2,4]\n",
    "print(list1)\n",
    "\n",
    "list3 = [i+1 for i in list1]\n",
    "\n",
    "print(list3)"
   ]
  },
  {
   "cell_type": "code",
   "execution_count": 12,
   "metadata": {},
   "outputs": [
    {
     "name": "stdout",
     "output_type": "stream",
     "text": [
      "[0, 1, 2, 3, 4, 5, 6, 7, 8, 9]\n"
     ]
    }
   ],
   "source": [
    "# Using range object:\n",
    "\n",
    "list4 = [i for i in range(10)]\n",
    "print(list4)"
   ]
  },
  {
   "cell_type": "code",
   "execution_count": 17,
   "metadata": {},
   "outputs": [
    {
     "ename": "TypeError",
     "evalue": "append() takes exactly one argument (2 given)",
     "output_type": "error",
     "traceback": [
      "\u001b[1;31m---------------------------------------------------------------------------\u001b[0m",
      "\u001b[1;31mTypeError\u001b[0m                                 Traceback (most recent call last)",
      "\u001b[1;32m<ipython-input-17-e975f3fb86f0>\u001b[0m in \u001b[0;36m<module>\u001b[1;34m\u001b[0m\n\u001b[0;32m      3\u001b[0m \u001b[1;32mfor\u001b[0m \u001b[0mnum1\u001b[0m \u001b[1;32min\u001b[0m \u001b[0mrange\u001b[0m\u001b[1;33m(\u001b[0m\u001b[1;36m0\u001b[0m\u001b[1;33m,\u001b[0m \u001b[1;36m2\u001b[0m\u001b[1;33m)\u001b[0m\u001b[1;33m:\u001b[0m\u001b[1;33m\u001b[0m\u001b[1;33m\u001b[0m\u001b[0m\n\u001b[0;32m      4\u001b[0m     \u001b[1;32mfor\u001b[0m \u001b[0mnum2\u001b[0m \u001b[1;32min\u001b[0m \u001b[0mrange\u001b[0m\u001b[1;33m(\u001b[0m\u001b[1;36m6\u001b[0m\u001b[1;33m,\u001b[0m \u001b[1;36m8\u001b[0m\u001b[1;33m)\u001b[0m\u001b[1;33m:\u001b[0m\u001b[1;33m\u001b[0m\u001b[1;33m\u001b[0m\u001b[0m\n\u001b[1;32m----> 5\u001b[1;33m         \u001b[0mpairs_1\u001b[0m\u001b[1;33m.\u001b[0m\u001b[0mappend\u001b[0m\u001b[1;33m(\u001b[0m\u001b[0mnum1\u001b[0m\u001b[1;33m,\u001b[0m \u001b[0mnum2\u001b[0m\u001b[1;33m)\u001b[0m\u001b[1;33m\u001b[0m\u001b[1;33m\u001b[0m\u001b[0m\n\u001b[0m\u001b[0;32m      6\u001b[0m \u001b[1;33m\u001b[0m\u001b[0m\n\u001b[0;32m      7\u001b[0m \u001b[0mprint\u001b[0m\u001b[1;33m(\u001b[0m\u001b[0mpairs_1\u001b[0m\u001b[1;33m)\u001b[0m\u001b[1;33m\u001b[0m\u001b[1;33m\u001b[0m\u001b[0m\n",
      "\u001b[1;31mTypeError\u001b[0m: append() takes exactly one argument (2 given)"
     ]
    }
   ],
   "source": [
    "#As per datacamp, following code should work but its not working:\n",
    "\n",
    "pairs_1 = [] \n",
    "    \n",
    "for num1 in range(0, 2):\n",
    "    for num2 in range(6, 8):\n",
    "        pairs_1.append(num1, num2)\n",
    "\n",
    "print(pairs_1)"
   ]
  },
  {
   "cell_type": "code",
   "execution_count": 18,
   "metadata": {},
   "outputs": [
    {
     "name": "stdout",
     "output_type": "stream",
     "text": [
      "[(0, 6), (0, 7), (1, 6), (1, 7)]\n"
     ]
    }
   ],
   "source": [
    "#ABove code can be written using list comprehensions as follows:\n",
    "\n",
    "pairs_1 = [(num1, num2) for num1 in range(0,2) for num2 in range(6,8)]\n",
    "\n",
    "print(pairs_1)"
   ]
  },
  {
   "cell_type": "code",
   "execution_count": 21,
   "metadata": {},
   "outputs": [
    {
     "data": {
      "text/plain": [
       "[0, 4, 16, 36, 64]"
      ]
     },
     "execution_count": 21,
     "metadata": {},
     "output_type": "execute_result"
    }
   ],
   "source": [
    "#Conditionals in list comprehensions:\n",
    "\n",
    "#Consider exmaple: if we want to square the numbers that are even:\n",
    "\n",
    "[num**2 for num in range(10) if num % 2 == 0]\n"
   ]
  },
  {
   "cell_type": "code",
   "execution_count": 26,
   "metadata": {},
   "outputs": [
    {
     "data": {
      "text/plain": [
       "[0, 0, 4, 0, 16, 0, 36, 0, 64, 0]"
      ]
     },
     "execution_count": 26,
     "metadata": {},
     "output_type": "execute_result"
    }
   ],
   "source": [
    "# We can use following command also for the same:\n",
    "\n",
    "[num**2 if num%2 == 0 else 0 for num in range(10)]"
   ]
  },
  {
   "cell_type": "code",
   "execution_count": 27,
   "metadata": {},
   "outputs": [
    {
     "name": "stdout",
     "output_type": "stream",
     "text": [
      "{0: 0, 1: 1, 2: 4, 3: 9, 4: 16, 5: 25, 6: 36, 7: 49, 8: 64, 9: 81}\n"
     ]
    }
   ],
   "source": [
    "#Dictionary comprehensions:\n",
    "\n",
    "squares = {i:i**2 for i in range(0,10)}\n",
    "print(squares)\n"
   ]
  },
  {
   "cell_type": "code",
   "execution_count": 39,
   "metadata": {},
   "outputs": [
    {
     "name": "stdout",
     "output_type": "stream",
     "text": [
      "[0, 2, 4, 6, 8, 10, 12, 14, 16, 18]\n",
      "<generator object <genexpr> at 0x0000020B0B484408>\n"
     ]
    }
   ],
   "source": [
    "#Generators:\n",
    "\n",
    "double1 = [2*num for num in range(10)]\n",
    "print(double1)\n",
    "\n",
    "#Suppose we dont store it as list\n",
    "\n",
    "double2 = (2*num for num in range(10))\n",
    "print(double2)"
   ]
  },
  {
   "cell_type": "code",
   "execution_count": 42,
   "metadata": {},
   "outputs": [
    {
     "name": "stdout",
     "output_type": "stream",
     "text": [
      "6\n",
      "8\n",
      "10\n",
      "[12, 14, 16, 18]\n"
     ]
    }
   ],
   "source": [
    "#So in above code we can say that double2 is the generator:\n",
    "\n",
    "#List comprehensions vs. generators\n",
    "#● List comprehension - returns a list\n",
    "#● Generators - returns a generator object\n",
    "#● Both can be iterated over\n",
    "\n",
    "#Above double2 can be printed using generator as follows:\n",
    "\n",
    "print(next(double2))\n",
    "print(next(double2))\n",
    "print(next(double2))\n",
    "\n",
    "\n",
    "#And if we want full list then we can run following command:\n",
    "\n",
    "print(list(double2))"
   ]
  },
  {
   "cell_type": "code",
   "execution_count": 41,
   "metadata": {},
   "outputs": [
    {
     "data": {
      "text/plain": [
       "<generator object <genexpr> at 0x0000020B0C2F7318>"
      ]
     },
     "execution_count": 41,
     "metadata": {},
     "output_type": "execute_result"
    }
   ],
   "source": [
    "#Following command cannot be created as it makes our session disconnected or it gets crashed:\n",
    "\n",
    "#[num for num in range(10**100000)]\n",
    "\n",
    "#But same above command can be written in generator and it doesnt make our session disconnected:\n",
    " \n",
    "(num for num in range(10**100000))\n"
   ]
  },
  {
   "cell_type": "code",
   "execution_count": 43,
   "metadata": {},
   "outputs": [],
   "source": [
    "# Generator functions:\n",
    "#● Produces generator objects when called\n",
    "#● Defined like a regular function - def\n",
    "#● Yields a sequence of values instead of returning a single\n",
    "#  value\n",
    "#● Generates a value with yield keyword"
   ]
  },
  {
   "cell_type": "code",
   "execution_count": 47,
   "metadata": {},
   "outputs": [
    {
     "name": "stdout",
     "output_type": "stream",
     "text": [
      "<generator object num_sequence at 0x0000020B0B4844F8>\n"
     ]
    }
   ],
   "source": [
    "# Build a generator function: (NOTE the 'yield' keyword)\n",
    "\n",
    "def num_sequence(n):\n",
    "    i = 0\n",
    "    while i < n:\n",
    "        yield i\n",
    "        i += 1\n",
    "\n",
    "print(num_sequence(5))"
   ]
  },
  {
   "cell_type": "code",
   "execution_count": 51,
   "metadata": {},
   "outputs": [
    {
     "name": "stdout",
     "output_type": "stream",
     "text": [
      "<generator object num_sequence at 0x0000020B0B484660>\n",
      "0\n",
      "1\n",
      "2\n",
      "3\n",
      "4\n"
     ]
    }
   ],
   "source": [
    "#We can print it above code as follows:\n",
    "\n",
    "result = num_sequence(5)\n",
    "print(result)\n",
    "\n",
    "for i in result:\n",
    "    print(i)\n"
   ]
  },
  {
   "cell_type": "code",
   "execution_count": null,
   "metadata": {},
   "outputs": [],
   "source": []
  },
  {
   "cell_type": "code",
   "execution_count": null,
   "metadata": {},
   "outputs": [],
   "source": []
  }
 ],
 "metadata": {
  "kernelspec": {
   "display_name": "Python 3",
   "language": "python",
   "name": "python3"
  },
  "language_info": {
   "codemirror_mode": {
    "name": "ipython",
    "version": 3
   },
   "file_extension": ".py",
   "mimetype": "text/x-python",
   "name": "python",
   "nbconvert_exporter": "python",
   "pygments_lexer": "ipython3",
   "version": "3.7.3"
  }
 },
 "nbformat": 4,
 "nbformat_minor": 2
}
